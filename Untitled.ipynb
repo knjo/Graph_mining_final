{
 "cells": [
  {
   "cell_type": "code",
   "execution_count": 29,
   "id": "3ef3304f",
   "metadata": {},
   "outputs": [
    {
     "name": "stdout",
     "output_type": "stream",
     "text": [
      "[[[1.     0.     0.     0.     0.     0.    ]\n",
      "  [0.     1.     0.     0.     0.     0.    ]\n",
      "  [0.     0.     1.     0.     0.     0.    ]\n",
      "  [0.     0.     0.     1.     0.     0.    ]\n",
      "  [0.     0.     0.     0.     1.     0.    ]\n",
      "  [0.     0.     0.     0.     0.     1.    ]]\n",
      "\n",
      " [[0.     0.     0.62   0.     0.     0.38  ]\n",
      "  [0.     0.     0.23   0.     0.77   0.    ]\n",
      "  [0.85   0.09   0.     0.06   0.     0.    ]\n",
      "  [0.37   0.     0.     0.     0.63   0.    ]\n",
      "  [0.35   0.     0.     0.     0.     0.65  ]\n",
      "  [1.     0.     0.     0.     0.     0.    ]]\n",
      "\n",
      " [[0.907  0.0558 0.     0.0372 0.     0.    ]\n",
      "  [0.465  0.0207 0.     0.0138 0.     0.5005]\n",
      "  [0.0222 0.     0.5477 0.     0.1071 0.323 ]\n",
      "  [0.2205 0.     0.2294 0.     0.     0.5501]\n",
      "  [0.65   0.     0.217  0.     0.     0.133 ]\n",
      "  [0.     0.     0.62   0.     0.     0.38  ]]]\n",
      "<class 'numpy.ndarray'>\n"
     ]
    }
   ],
   "source": [
    "\n",
    "from typing import List\n",
    " \n",
    "# Function to multiply two matrices A and B\n",
    "def multiply(A: List[List[float]], B: List[List[float]],\n",
    "             N: int) -> List[List[float]]:\n",
    "    C = [[0 for _ in range(N)] for _ in range(N)]\n",
    "    for i in range(N):\n",
    "        for j in range(N):\n",
    "            for k in range(N):\n",
    "                C[i][j] += A[i][k] * B[k][j]\n",
    "    return C\n",
    " \n",
    "# Function to calculate the power of a matrix\n",
    "def matrix_power(M: List[List[float]], p: int, n: int) -> List[List[float]]:\n",
    "    A = [[0 for _ in range(n)] for _ in range(n)]\n",
    "    for i in range(n):\n",
    "        A[i][i] = 1\n",
    "    while (p):\n",
    "        if (p % 2):\n",
    "            A = multiply(A, M, n)\n",
    "        M = multiply(M, M, n)\n",
    "        p //= 2\n",
    "    return A\n",
    " \n",
    "# Function to calculate the probability of\n",
    "# reaching F at time T after starting from S\n",
    "def findProbability(M: List[List[float]], N: int, F: int, S: int,\n",
    "                    T: int) -> float:\n",
    " \n",
    "    # Storing M^T in MT\n",
    "    MT = matrix_power(M, T, N)\n",
    " \n",
    "    # Returning the answer\n",
    "    return MT[F - 1][S - 1]\n",
    "\n",
    "def findK_Step( adj : List[List[float]] , K_step : int):\n",
    "    \n",
    "    N = len(adj)\n",
    "    k_step = np.zeros((K_step,N,N))\n",
    "    for i in range (K_step):\n",
    "        T = i\n",
    "        for j in range(N):\n",
    "            S = j\n",
    "            for k in range(N):\n",
    "                F = k\n",
    "                k_step[i][j][k] = findProbability(adj, N, F, S, T)\n",
    "    return k_step\n",
    " \n",
    "# Driver code\n",
    "if __name__ == \"__main__\":\n",
    " \n",
    "    # Adjacency matrix\n",
    "    # The edges have been stored in the row\n",
    "    # corresponding to their end-point\n",
    "    G = [[0, 0.09, 0, 0, 0, 0], [0.23, 0, 0, 0, 0, 0.62],\n",
    "         [0, 0.06, 0, 0, 0, 0], [0.77, 0, 0.63, 0, 0, 0],\n",
    "         [0, 0, 0, 0.65, 0, 0.38], [0, 0.85, 0.37, 0.35, 1.0, 0]]\n",
    " \n",
    "    # N is the number of states\n",
    "    \"\"\"\n",
    "    N = 6\n",
    "    S = 4\n",
    "    F = 2\n",
    "    T = 100\n",
    "    print(\n",
    "        \"The probability of reaching {} at time {}\\nafter starting from {} is {}\\n\"\n",
    "        .format(F, T, S, findProbability(G, N, F, S, T)))\n",
    "    \"\"\"\n",
    "    k_step = findK_Step(G , 3)\n",
    "    print(k_step)\n",
    "    print(type(k_step))"
   ]
  },
  {
   "cell_type": "code",
   "execution_count": 7,
   "id": "379f0bb9",
   "metadata": {
    "scrolled": true
   },
   "outputs": [
    {
     "name": "stdout",
     "output_type": "stream",
     "text": [
      "[1. 1. 1.]\n",
      "[array([[0.2267066 , 0.6339827 , 0.33368108],\n",
      "       [0.34750536, 0.31034882, 0.38181596],\n",
      "       [0.48668456, 0.86926472, 0.90956552],\n",
      "       [0.37203821, 0.86097544, 0.83070092],\n",
      "       [0.5569489 , 0.15876631, 0.93343244],\n",
      "       [0.68125125, 0.30812785, 0.32675031]]), array([[0.82460153, 0.44675188, 0.70919744],\n",
      "       [0.76979115, 0.98609928, 0.37313172],\n",
      "       [0.8784627 , 0.85463967, 0.22653319],\n",
      "       [0.65270302, 0.68548556, 0.42156604],\n",
      "       [0.97544644, 0.03014889, 0.66408425],\n",
      "       [0.77485943, 0.8901211 , 0.28045883]]), array([[0.12640064, 0.61748653, 0.37538426],\n",
      "       [0.58670465, 0.92518286, 0.66450725],\n",
      "       [0.32344426, 0.60000867, 0.07754919],\n",
      "       [0.66640651, 0.39238187, 0.37877025],\n",
      "       [0.28964909, 0.28885091, 0.61895394],\n",
      "       [0.1843109 , 0.29193367, 0.4263826 ]]), array([[0.26419964, 0.60987444, 0.07605001],\n",
      "       [0.23135155, 0.15298889, 0.05161023],\n",
      "       [0.7500609 , 0.40145428, 0.83845702],\n",
      "       [0.71378346, 0.34530233, 0.65318277],\n",
      "       [0.42001297, 0.22219661, 0.7522097 ],\n",
      "       [0.32357356, 0.20439732, 0.11176525]]), array([[0.6776628 , 0.7599919 , 0.66494469],\n",
      "       [0.30914784, 0.91724277, 0.85329474],\n",
      "       [0.55633008, 0.37251621, 0.72191017],\n",
      "       [0.46744799, 0.01757399, 0.43458903],\n",
      "       [0.43497268, 0.55788384, 0.66385523],\n",
      "       [0.16654723, 0.54603176, 0.45950548]]), array([[0.41182345, 0.05314588, 0.6491759 ],\n",
      "       [0.45857806, 0.53592487, 0.37744769],\n",
      "       [0.0212843 , 0.71579637, 0.73695127],\n",
      "       [0.29328946, 0.56364675, 0.48068906],\n",
      "       [0.78268717, 0.4066959 , 0.44759175],\n",
      "       [0.42506931, 0.91064726, 0.37845566]])]\n"
     ]
    }
   ],
   "source": [
    "# 使用tensorly函数初始化\n",
    "import tensorly as tl\n",
    "import numpy as np\n",
    "\n",
    "rank = 3\n",
    "N = len(G)\n",
    "A = []\n",
    "lbd = tl.ones(rank)\n",
    "for n in range(N):\n",
    "    A.append(tl.tensor(np.random.random((N, rank))))\n",
    "print (lbd)\n",
    "print (A)"
   ]
  },
  {
   "cell_type": "code",
   "execution_count": null,
   "id": "04119f36",
   "metadata": {},
   "outputs": [],
   "source": [
    "tt"
   ]
  },
  {
   "cell_type": "code",
   "execution_count": 10,
   "id": "8954c752",
   "metadata": {},
   "outputs": [
    {
     "data": {
      "text/plain": [
       "array([[10.4755311 ,  5.82061878,  9.12465049],\n",
       "       [ 5.82061878, 21.36808896,  7.10270093],\n",
       "       [ 9.12465049,  7.10270093, 21.57919306]])"
      ]
     },
     "execution_count": 10,
     "metadata": {},
     "output_type": "execute_result"
    }
   ],
   "source": [
    "# 使用None\n",
    "V = None\n",
    "for i in range(N):\n",
    "    if i != n:\n",
    "        if V is None:\n",
    "            V = np.matmul(A[i].T, A[i])\n",
    "        else:\n",
    "            V = np.matmul(A[i].T, A[i]) * V\n",
    "\n",
    "V"
   ]
  },
  {
   "cell_type": "code",
   "execution_count": 39,
   "id": "dcf2d66c",
   "metadata": {},
   "outputs": [
    {
     "name": "stderr",
     "output_type": "stream",
     "text": [
      "100%|██████████████████████████████████████████████████████████████████████████████| 100/100 [00:00<00:00, 1670.39it/s]"
     ]
    },
    {
     "name": "stdout",
     "output_type": "stream",
     "text": [
      "3\n",
      "[array([[-0.59453688, -0.60110799,  0.94779442,  0.99803105,  0.97134804],\n",
      "       [-0.5819376 ,  0.58579016, -0.31188866,  0.05251547,  0.23662377],\n",
      "       [-0.55486442, -0.54361666,  0.06641683, -0.03429513,  0.02218511]]), array([[-0.37845301, -0.5466512 ,  0.05848193,  0.04314236, -0.03889391],\n",
      "       [-0.42553833,  0.08115444, -0.72521522, -0.76533567,  0.7379394 ],\n",
      "       [-0.35784806,  0.47819604, -0.00580978, -0.0773437 ,  0.01230291],\n",
      "       [-0.42969899,  0.30484688, -0.60977609, -0.6319792 ,  0.62766131],\n",
      "       [-0.43946262, -0.20452516,  0.29992259, -0.04868975,  0.24384217],\n",
      "       [-0.41214876,  0.57545878, -0.09396036,  0.06818798,  0.01906908]]), array([[ 0.79398103,  0.79220891, -0.29099211, -0.03664803, -0.29033393],\n",
      "       [ 0.0210934 ,  0.07995529, -0.06992595, -0.0692602 , -0.00166364],\n",
      "       [ 0.51194726, -0.53707379,  0.61194604, -0.76127488, -0.75927821],\n",
      "       [ 0.01295128, -0.01208357, -0.07094778, -0.00919118,  0.05075853],\n",
      "       [ 0.01015523, -0.065015  ,  0.45140503,  0.09748289,  0.36820304],\n",
      "       [ 0.32678483, -0.27053831, -0.57197545,  0.63618638,  0.44838614]])]\n"
     ]
    },
    {
     "name": "stderr",
     "output_type": "stream",
     "text": [
      "\n"
     ]
    }
   ],
   "source": [
    "import numpy as np\n",
    "import tensorly as tl\n",
    "from tensorly.decomposition._cp import initialize_cp\n",
    "\n",
    "from tensorly.tenalg import khatri_rao\n",
    "from tqdm import tqdm\n",
    "\n",
    "def cp_als(tensor: np.ndarray, R=3, max_iter=100):\n",
    "    N = tl.ndim(tensor)\n",
    "    print(N)\n",
    "    # Step 1\n",
    "    lbd, A = initialize_cp(tensor, R, init='svd', svd='numpy_svd',\n",
    "                           random_state=0,\n",
    "                           normalize_factors=True)\n",
    "    # A = []\n",
    "    # for n in range(N):\n",
    "    #     np.random.seed(N)\n",
    "    #     A.append(tl.tensor(np.random.random((tensor.shape[n], rank))))\n",
    "    # lbd = tl.ones(rank)\n",
    "\n",
    "    for epoch in tqdm(range(max_iter)):\n",
    "        for n in range(N):\n",
    "            # Step 2\n",
    "            V = np.ones((R, R))\n",
    "            for i in range(N):\n",
    "                if i != n:\n",
    "                    V = np.matmul(A[i].T, A[i]) * V\n",
    "            # V = None\n",
    "            # for i in range(N):\n",
    "            #     if i != n:\n",
    "            #         if V is None:\n",
    "            #             V = np.matmul(A[i].T, A[i])\n",
    "            #         else:\n",
    "            #             V = np.matmul(A[i].T, A[i]) * V\n",
    "\n",
    "\n",
    "            # Step 3\n",
    "            T = khatri_rao(A, skip_matrix=n)\n",
    "            A[n] = np.matmul(np.matmul(tl.unfold(tensor, mode=n), T), np.linalg.pinv(V))\n",
    "\n",
    "            # Step 4\n",
    "            for r in range(R):\n",
    "                lbd[r] = tl.norm(A[n][:, r])\n",
    "            A[n] = A[n] / tl.reshape(lbd, (1, -1))\n",
    "        # Step 5\n",
    "        tensor_pred = tl.fold(np.matmul(np.matmul(A[0], np.diag(lbd)),\n",
    "                                        khatri_rao(A, skip_matrix=0).T),\n",
    "                              mode=0,\n",
    "                              shape=tensor.shape)\n",
    "        if tl.norm(tensor - tensor_pred) <= 1e-7:\n",
    "            return A, lbd, epoch\n",
    "\n",
    "    return A, lbd, max_iter\n",
    "\n",
    "if __name__ == '__main__':\n",
    "    np.random.seed(10086)\n",
    "    inpt = k_step\n",
    "    cp, lbd, epoch = cp_als(inpt, R=5, max_iter=100)\n",
    "    #tensor_pred = tl.fold(np.matmul(np.matmul(A[0], np.diag(lbd)),khatri_rao(A, skip_matrix=0).T), mode=0, shape=inpt.shape)\n",
    "\n",
    "    #print(tl.norm(inpt - tensor_pred), epoch)\n",
    "    print(cp)"
   ]
  },
  {
   "cell_type": "code",
   "execution_count": 40,
   "id": "6a741563",
   "metadata": {},
   "outputs": [],
   "source": [
    "C = cp[0]\n",
    "B = cp[1]\n",
    "A = cp[2]"
   ]
  },
  {
   "cell_type": "code",
   "execution_count": 44,
   "id": "211daaf6",
   "metadata": {},
   "outputs": [],
   "source": [
    "ST = A @ C.T\n",
    "TT = B @ C.T"
   ]
  },
  {
   "cell_type": "code",
   "execution_count": 45,
   "id": "e78458ec",
   "metadata": {},
   "outputs": [],
   "source": [
    "Z = np.concatenate([ST , TT])"
   ]
  },
  {
   "cell_type": "code",
   "execution_count": 46,
   "id": "4c42a040",
   "metadata": {},
   "outputs": [
    {
     "data": {
      "text/plain": [
       "array([[-1.54264598,  0.02215341, -0.8957208 ],\n",
       "       [-0.19761779,  0.0523402 , -0.05747488],\n",
       "       [-0.89883251, -1.02303491,  0.0578078 ],\n",
       "       [-0.02754927,  0.01904053, -0.00388821],\n",
       "       [ 0.9158268 , -0.09253802,  0.06451479],\n",
       "       [ 0.49669473, -0.03074596, -0.08411154],\n",
       "       [ 0.61430743, -0.12516429,  0.50870056],\n",
       "       [-0.53017206,  0.65578466,  0.18645123],\n",
       "       [-0.14544107,  0.4890292 , -0.05885859],\n",
       "       [-0.52677366,  0.73414744,  0.06780399],\n",
       "       [ 0.85674513,  0.09753043,  0.38202485],\n",
       "       [-0.1033539 ,  0.61434124, -0.09229831]])"
      ]
     },
     "execution_count": 46,
     "metadata": {},
     "output_type": "execute_result"
    }
   ],
   "source": [
    "Z"
   ]
  },
  {
   "cell_type": "code",
   "execution_count": null,
   "id": "d2b03435",
   "metadata": {},
   "outputs": [],
   "source": []
  }
 ],
 "metadata": {
  "kernelspec": {
   "display_name": "Python 3",
   "language": "python",
   "name": "python3"
  },
  "language_info": {
   "codemirror_mode": {
    "name": "ipython",
    "version": 3
   },
   "file_extension": ".py",
   "mimetype": "text/x-python",
   "name": "python",
   "nbconvert_exporter": "python",
   "pygments_lexer": "ipython3",
   "version": "3.7.1"
  }
 },
 "nbformat": 4,
 "nbformat_minor": 5
}
