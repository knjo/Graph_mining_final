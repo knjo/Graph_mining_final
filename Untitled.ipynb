{
 "cells": [
  {
   "cell_type": "code",
   "execution_count": 8,
   "id": "e1ea8995",
   "metadata": {},
   "outputs": [
    {
     "ename": "TypeError",
     "evalue": "'float' object cannot be interpreted as an integer",
     "output_type": "error",
     "traceback": [
      "\u001b[1;31m---------------------------------------------------------------------------\u001b[0m",
      "\u001b[1;31mTypeError\u001b[0m                                 Traceback (most recent call last)",
      "\u001b[1;32m<ipython-input-8-b150f5d710cd>\u001b[0m in \u001b[0;36m<module>\u001b[1;34m\u001b[0m\n\u001b[0;32m     72\u001b[0m         .format(F, T, S, findProbability(G, N, F, S, T)))\n\u001b[0;32m     73\u001b[0m     \"\"\"\n\u001b[1;32m---> 74\u001b[1;33m     \u001b[0mtest\u001b[0m \u001b[1;33m=\u001b[0m \u001b[0mK_step_trans\u001b[0m\u001b[1;33m(\u001b[0m\u001b[0mG\u001b[0m \u001b[1;33m,\u001b[0m \u001b[1;36m3.3\u001b[0m\u001b[1;33m)\u001b[0m\u001b[1;33m\u001b[0m\u001b[1;33m\u001b[0m\u001b[0m\n\u001b[0m\u001b[0;32m     75\u001b[0m     \u001b[0mprint\u001b[0m\u001b[1;33m(\u001b[0m\u001b[0mtest\u001b[0m\u001b[1;33m)\u001b[0m\u001b[1;33m\u001b[0m\u001b[1;33m\u001b[0m\u001b[0m\n\u001b[0;32m     76\u001b[0m \u001b[1;33m\u001b[0m\u001b[0m\n",
      "\u001b[1;32m<ipython-input-8-b150f5d710cd>\u001b[0m in \u001b[0;36mK_step_trans\u001b[1;34m(adj, K_step)\u001b[0m\n\u001b[0;32m     39\u001b[0m     \u001b[0mN\u001b[0m \u001b[1;33m=\u001b[0m \u001b[0mlen\u001b[0m\u001b[1;33m(\u001b[0m\u001b[0madj\u001b[0m\u001b[1;33m)\u001b[0m\u001b[1;33m\u001b[0m\u001b[1;33m\u001b[0m\u001b[0m\n\u001b[0;32m     40\u001b[0m     \u001b[0mk_step\u001b[0m \u001b[1;33m=\u001b[0m \u001b[1;33m[\u001b[0m\u001b[1;33m]\u001b[0m\u001b[1;33m\u001b[0m\u001b[1;33m\u001b[0m\u001b[0m\n\u001b[1;32m---> 41\u001b[1;33m     \u001b[1;32mfor\u001b[0m \u001b[0mi\u001b[0m \u001b[1;32min\u001b[0m \u001b[0mrange\u001b[0m \u001b[1;33m(\u001b[0m\u001b[0mK_step\u001b[0m\u001b[1;33m)\u001b[0m\u001b[1;33m:\u001b[0m\u001b[1;33m\u001b[0m\u001b[1;33m\u001b[0m\u001b[0m\n\u001b[0m\u001b[0;32m     42\u001b[0m         \u001b[0mT\u001b[0m \u001b[1;33m=\u001b[0m \u001b[0mi\u001b[0m\u001b[1;33m\u001b[0m\u001b[1;33m\u001b[0m\u001b[0m\n\u001b[0;32m     43\u001b[0m         \u001b[0mstep_trans\u001b[0m \u001b[1;33m=\u001b[0m \u001b[1;33m[\u001b[0m\u001b[1;33m]\u001b[0m\u001b[1;33m\u001b[0m\u001b[1;33m\u001b[0m\u001b[0m\n",
      "\u001b[1;31mTypeError\u001b[0m: 'float' object cannot be interpreted as an integer"
     ]
    }
   ],
   "source": [
    "\n",
    "from typing import List\n",
    " \n",
    "# Function to multiply two matrices A and B\n",
    "def multiply(A: List[List[float]], B: List[List[float]],\n",
    "             N: int) -> List[List[float]]:\n",
    "    C = [[0 for _ in range(N)] for _ in range(N)]\n",
    "    for i in range(N):\n",
    "        for j in range(N):\n",
    "            for k in range(N):\n",
    "                C[i][j] += A[i][k] * B[k][j]\n",
    "    return C\n",
    " \n",
    "# Function to calculate the power of a matrix\n",
    "def matrix_power(M: List[List[float]], p: int, n: int) -> List[List[float]]:\n",
    "    A = [[0 for _ in range(n)] for _ in range(n)]\n",
    "    for i in range(n):\n",
    "        A[i][i] = 1\n",
    "    while (p):\n",
    "        if (p % 2):\n",
    "            A = multiply(A, M, n)\n",
    "        M = multiply(M, M, n)\n",
    "        p //= 2\n",
    "    return A\n",
    " \n",
    "# Function to calculate the probability of\n",
    "# reaching F at time T after starting from S\n",
    "def findProbability(M: List[List[float]], N: int, F: int, S: int,\n",
    "                    T: int) -> float:\n",
    " \n",
    "    # Storing M^T in MT\n",
    "    MT = matrix_power(M, T, N)\n",
    " \n",
    "    # Returning the answer\n",
    "    return MT[F - 1][S - 1]\n",
    "\n",
    "def K_step_trans( adj : List[List[float]] , K_step : int):\n",
    "    \n",
    "    N = len(adj)\n",
    "    k_step = []\n",
    "    for i in range (K_step):\n",
    "        T = i\n",
    "        step_trans = []\n",
    "        for j in range(N):\n",
    "            S = j\n",
    "            node_trans = []\n",
    "            for k in range(N):\n",
    "                F = k\n",
    "                node_trans.append(findProbability(adj, N, F, S, T))\n",
    "            step_trans.append(node_trans)\n",
    "        k_step.append(step_trans)\n",
    "    return k_step\n",
    " \n",
    "# Driver code\n",
    "if __name__ == \"__main__\":\n",
    " \n",
    "    # Adjacency matrix\n",
    "    # The edges have been stored in the row\n",
    "    # corresponding to their end-point\n",
    "    G = [[0, 0.09, 0, 0, 0, 0], [0.23, 0, 0, 0, 0, 0.62],\n",
    "         [0, 0.06, 0, 0, 0, 0], [0.77, 0, 0.63, 0, 0, 0],\n",
    "         [0, 0, 0, 0.65, 0, 0.38], [0, 0.85, 0.37, 0.35, 1.0, 0]]\n",
    " \n",
    "    # N is the number of states\n",
    "    \"\"\"\n",
    "    N = 6\n",
    "    S = 4\n",
    "    F = 2\n",
    "    T = 100\n",
    "    print(\n",
    "        \"The probability of reaching {} at time {}\\nafter starting from {} is {}\\n\"\n",
    "        .format(F, T, S, findProbability(G, N, F, S, T)))\n",
    "    \"\"\"\n",
    "    test = K_step_trans(G , 3)\n",
    "    print(test)\n",
    "    "
   ]
  },
  {
   "cell_type": "code",
   "execution_count": 2,
   "id": "7e0a3753",
   "metadata": {},
   "outputs": [
    {
     "data": {
      "text/plain": [
       "6"
      ]
     },
     "execution_count": 2,
     "metadata": {},
     "output_type": "execute_result"
    }
   ],
   "source": [
    "len(G)"
   ]
  },
  {
   "cell_type": "code",
   "execution_count": null,
   "id": "a555176c",
   "metadata": {},
   "outputs": [],
   "source": []
  }
 ],
 "metadata": {
  "kernelspec": {
   "display_name": "Python 3",
   "language": "python",
   "name": "python3"
  },
  "language_info": {
   "codemirror_mode": {
    "name": "ipython",
    "version": 3
   },
   "file_extension": ".py",
   "mimetype": "text/x-python",
   "name": "python",
   "nbconvert_exporter": "python",
   "pygments_lexer": "ipython3",
   "version": "3.7.1"
  }
 },
 "nbformat": 4,
 "nbformat_minor": 5
}
